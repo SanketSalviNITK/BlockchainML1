{
  "nbformat": 4,
  "nbformat_minor": 0,
  "metadata": {
    "colab": {
      "provenance": [],
      "authorship_tag": "ABX9TyMkDRqA2/+xBkjRe4L2dnfl",
      "include_colab_link": true
    },
    "kernelspec": {
      "name": "python3",
      "display_name": "Python 3"
    },
    "language_info": {
      "name": "python"
    }
  },
  "cells": [
    {
      "cell_type": "markdown",
      "metadata": {
        "id": "view-in-github",
        "colab_type": "text"
      },
      "source": [
        "<a href=\"https://colab.research.google.com/github/SanketSalviNITK/BlockchainML1/blob/main/Untitled3.ipynb\" target=\"_parent\"><img src=\"https://colab.research.google.com/assets/colab-badge.svg\" alt=\"Open In Colab\"/></a>"
      ]
    },
    {
      "cell_type": "code",
      "execution_count": 5,
      "metadata": {
        "colab": {
          "base_uri": "https://localhost:8080/"
        },
        "id": "dS_iKHGMIb-4",
        "outputId": "8b39f7dd-217b-4605-96ea-112e26cbcf9f"
      },
      "outputs": [
        {
          "output_type": "stream",
          "name": "stdout",
          "text": [
            "     sender recipient   support\n",
            "11      Bob       Eve  0.153846\n",
            "8     Alice       Eve  0.120879\n",
            "6     Alice   Charlie  0.109890\n",
            "5     Alice       Bob  0.098901\n",
            "7     Alice      Dave  0.098901\n",
            "13  Charlie       Eve  0.098901\n",
            "12  Charlie      Dave  0.087912\n",
            "9       Bob   Charlie  0.076923\n",
            "10      Bob      Dave  0.076923\n",
            "14     Dave       Eve  0.076923\n"
          ]
        },
        {
          "output_type": "stream",
          "name": "stderr",
          "text": [
            "<ipython-input-5-a0fdbd578837>:35: SettingWithCopyWarning: \n",
            "A value is trying to be set on a copy of a slice from a DataFrame.\n",
            "Try using .loc[row_indexer,col_indexer] = value instead\n",
            "\n",
            "See the caveats in the documentation: https://pandas.pydata.org/pandas-docs/stable/user_guide/indexing.html#returning-a-view-versus-a-copy\n",
            "  frequent_pairs['sender'] = frequent_pairs['itemsets'].apply(lambda x: list(x)[0])\n",
            "<ipython-input-5-a0fdbd578837>:36: SettingWithCopyWarning: \n",
            "A value is trying to be set on a copy of a slice from a DataFrame.\n",
            "Try using .loc[row_indexer,col_indexer] = value instead\n",
            "\n",
            "See the caveats in the documentation: https://pandas.pydata.org/pandas-docs/stable/user_guide/indexing.html#returning-a-view-versus-a-copy\n",
            "  frequent_pairs['recipient'] = frequent_pairs['itemsets'].apply(lambda x: list(x)[1])\n"
          ]
        }
      ],
      "source": [
        "import json\n",
        "import pandas as pd\n",
        "from sklearn.preprocessing import LabelEncoder, OneHotEncoder\n",
        "from mlxtend.frequent_patterns import apriori\n",
        "from mlxtend.preprocessing import TransactionEncoder\n",
        "\n",
        "# Load the blockchain JSON file\n",
        "with open('/blockchain.json') as f:\n",
        "    blockchain_data = json.load(f)\n",
        "\n",
        "# Extract the sender and receiver from the blockchain data\n",
        "transactions = []\n",
        "for block in blockchain_data['chain']:\n",
        "    for tx in block['transactions']:\n",
        "        transactions.append((tx['sender'], tx['recipient']))\n",
        "\n",
        "# Convert the transactions to a Pandas DataFrame\n",
        "df = pd.DataFrame(transactions, columns=['sender', 'recipient'])\n",
        "\n",
        "# Label encode the sender and receiver columns\n",
        "le = LabelEncoder()\n",
        "df['sender'] = le.fit_transform(df['sender'])\n",
        "df['recipient'] = le.fit_transform(df['recipient'])\n",
        "\n",
        "# One-hot encode the transactions\n",
        "te = TransactionEncoder()\n",
        "te_ary = te.fit(df.values).transform(df.values)\n",
        "df_encoded = pd.DataFrame(te_ary, columns=te.columns_)\n",
        "\n",
        "# Find frequent itemsets using Apriori algorithm\n",
        "frequent_itemsets = apriori(df_encoded, min_support=0.01, use_colnames=True)\n",
        "\n",
        "# Filter the itemsets to contain only sender-receiver pairs\n",
        "frequent_pairs = frequent_itemsets[frequent_itemsets['itemsets'].apply(lambda x: len(x) == 2)]\n",
        "frequent_pairs['sender'] = frequent_pairs['itemsets'].apply(lambda x: list(x)[0])\n",
        "frequent_pairs['recipient'] = frequent_pairs['itemsets'].apply(lambda x: list(x)[1])\n",
        "frequent_pairs = frequent_pairs[['sender', 'recipient', 'support']]\n",
        "\n",
        "# Decode the sender and receiver columns back to their original values\n",
        "frequent_pairs['sender'] = le.inverse_transform(frequent_pairs['sender'])\n",
        "frequent_pairs['recipient'] = le.inverse_transform(frequent_pairs['recipient'])\n",
        "\n",
        "# Sort the frequent pairs by support\n",
        "frequent_pairs = frequent_pairs.sort_values(by='support', ascending=False)\n",
        "\n",
        "# Print the top 10 frequent pairs\n",
        "print(frequent_pairs.head(10))\n"
      ]
    }
  ]
}